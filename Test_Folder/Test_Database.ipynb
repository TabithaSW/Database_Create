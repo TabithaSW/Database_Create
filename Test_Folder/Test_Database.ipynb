{
 "cells": [
  {
   "cell_type": "markdown",
   "id": "30997f1e",
   "metadata": {},
   "source": [
    "# TOKENIZE "
   ]
  },
  {
   "cell_type": "code",
   "execution_count": 97,
   "id": "8e1a179a",
   "metadata": {},
   "outputs": [],
   "source": [
    "# My code for int/float vars:\n",
    "import string\n",
    "import re\n",
    "\n",
    "#  FUNCTIONS FOR TOKENIZING STATEMENT INPUTTED TO EXECUTE:\n",
    "\n",
    "def float_int_check(query, tokens):\n",
    "    nums = []\n",
    "    x = re.findall(r'-?\\d+\\.\\d+', query)\n",
    "    # If the number is a float,\n",
    "    if x:\n",
    "        if query[0] in x[0]:\n",
    "            tokens.append(float(x[0]))\n",
    "            query = query[len(x[0]):]\n",
    "        else:\n",
    "            # If the list wasn't empty but number is integer:\n",
    "            nums = collect_characters(query, string.digits)\n",
    "            tokens.append(int(nums))\n",
    "            query = query[len(nums):]\n",
    "            \n",
    "    # If the number is an integer:\n",
    "    if len(x) == 0:\n",
    "        nums = collect_characters(query, string.digits)\n",
    "        tokens.append(int(nums))\n",
    "        query = query[len(nums):]\n",
    "    return query\n",
    "\n",
    "\n",
    "def collect_characters(query, allowed_characters):\n",
    "    letters = []\n",
    "    for letter in query:\n",
    "        if letter not in allowed_characters:\n",
    "            break\n",
    "        letters.append(letter)\n",
    "    return \"\".join(letters)\n",
    "\n",
    "\n",
    "def remove_leading_whitespace(query, tokens):\n",
    "    whitespace = collect_characters(query, string.whitespace)\n",
    "    return query[len(whitespace):]\n",
    "\n",
    "\n",
    "def remove_word(query, tokens):\n",
    "    word = collect_characters(query,\n",
    "                              string.ascii_letters + \"_\" + string.digits)\n",
    "    if word == \"NULL\":\n",
    "        tokens.append(None)\n",
    "    else:\n",
    "        tokens.append(word)\n",
    "    return query[len(word):]\n",
    "\n",
    "\n",
    "def remove_text(query, tokens):\n",
    "    assert query[0] == \"'\"\n",
    "    query = query[1:]\n",
    "    end_quote_index = query.find(\"'\")\n",
    "    text = query[:end_quote_index]\n",
    "    tokens.append(text)\n",
    "    query = query[end_quote_index + 1:]\n",
    "    return query\n",
    "\n",
    "\n",
    "def tokenize(query):\n",
    "    tokens = []\n",
    "    while query:\n",
    "        old_query = query\n",
    "\n",
    "        if query[0] in string.whitespace:\n",
    "            query = remove_leading_whitespace(query, tokens)\n",
    "            continue\n",
    "\n",
    "        if query[0] in (string.ascii_letters + \"_\"):\n",
    "            query = remove_word(query, tokens)\n",
    "            continue\n",
    "\n",
    "        if query[0] in \"(),;\":\n",
    "            tokens.append(query[0])\n",
    "            query = query[1:]\n",
    "            continue\n",
    "            \n",
    "        if query[0] == \"*\":\n",
    "            tokens.append(query[0])\n",
    "            query = query[1:]\n",
    "            continue\n",
    "\n",
    "        if query[0] == \"'\":\n",
    "            query = remove_text(query, tokens)\n",
    "            continue\n",
    "\n",
    "        # INTEGERS AND FLOATS\n",
    "        if query[0] in string.digits or query[0] == \"-\":\n",
    "            query = float_int_check(query, tokens)\n",
    "            continue\n",
    "\n",
    "        if len(query) == len(old_query):\n",
    "            raise AssertionError(\"Query didn't get shorter.\")\n",
    "        else:\n",
    "            print(\"Not in the if statements\")\n",
    "\n",
    "    return tokens"
   ]
  },
  {
   "cell_type": "markdown",
   "id": "166a13cf",
   "metadata": {},
   "source": [
    "# DATABASE CLASS"
   ]
  },
  {
   "cell_type": "code",
   "execution_count": 111,
   "id": "aa0a45f5",
   "metadata": {},
   "outputs": [
    {
     "name": "stdout",
     "output_type": "stream",
     "text": [
      "CREATE: dict_items([('students', [{'col1': [], 'col2': [], 'col3': []}])])\n"
     ]
    }
   ],
   "source": [
    "all_database = {}\n",
    "class Database(object):\n",
    "    def __init__(self):\n",
    "        self.database = {}\n",
    "\n",
    "    def create_table(self, tokens):\n",
    "        # Temp storage:\n",
    "        name_cols = []\n",
    "        actual_table = {}\n",
    "        d_type = []\n",
    "        \n",
    "        # I want to pull all the lowercase text from the tokens,\n",
    "        # These will be the table and column names of the table. (for CREATE TABLE)\n",
    "        for i in range(len(tokens)):\n",
    "            if tokens[i].islower():\n",
    "                # We also want the data type of the columns:\n",
    "                d_type.append(tokens[i+1])\n",
    "                # Append column names:\n",
    "                name_cols.append(tokens[i])\n",
    "        # d_type will have a bracket because of the title, so we pop it off.\n",
    "        d_type.pop(0)\n",
    "                              \n",
    "                \n",
    "        # Extract table name:\n",
    "        title = name_cols[0]\n",
    "        # Add columns to table:\n",
    "        for i in name_cols[1:]:\n",
    "            actual_table[i] = []\n",
    "            \n",
    "        # Insert table into database:\n",
    "        #self.database[title] = [actual_table]\n",
    "        \n",
    "        # Using global variable instead to prevent overwriting.\n",
    "        all_database[title] = [actual_table]\n",
    "\n",
    "        return \n",
    "    \n",
    "    def insert_vals(self,tokens):\n",
    "        # Temp storage:\n",
    "        my_list = []\n",
    "        # In an INSERT INTO statement, the third token is the table name.\n",
    "        table_name = tokens[2]\n",
    "        table = db.get_table(table_name)\n",
    "        keys = list(table.keys())\n",
    "            \n",
    "        # Extract values, I will turn them into a tuple in my return. \n",
    "        # The INSERT INTO statement values begin after the table name and bracket, so we start at [5:]\n",
    "        for i in tokens[5:]:\n",
    "            if i != \")\":\n",
    "                if i != \",\" and i != \";\":\n",
    "                    my_list.append((i))\n",
    "                        \n",
    "        # Inserting the values\n",
    "        # The columns I believe are the same amoutn as the values inserted, so lets try this:\n",
    "        for i in range(len(my_list)):\n",
    "            table[keys[i]].append(my_list[i])\n",
    "        \n",
    "                    \n",
    "        return     \n",
    "        #return self.database[table_name]\n",
    "        \n",
    "                \n",
    "    def get_table(self, table_id):\n",
    "        # Since I used nested dictionaries, my table will first pull as a list.\n",
    "        #table_list = self.database[table_id]\n",
    "        \n",
    "        # We are going to use a global variable instead to prevent overwriting.\n",
    "        table_list = all_database[table_id]\n",
    "        \n",
    "        # Index at 0 to pull entire table.\n",
    "        return table_list[0]\n",
    "    \n",
    "    def get_rows(self,tokens,table):\n",
    "        # Temp storage\n",
    "        cols = []\n",
    "        col_to_sort = []\n",
    "        all_rows = []\n",
    "        \n",
    "        # What are we selecting?\n",
    "        \n",
    "        for i in range(len(tokens)):\n",
    "            # After SELECT are the column names we need.\n",
    "            if tokens[i] == \"SELECT\":\n",
    "                select_cols = tokens[i+1:]\n",
    "                \n",
    "        # We need to slice, everything after the column names we dont want in the list.\n",
    "        remove_from = select_cols.index(\"FROM\")\n",
    "        select_cols = select_cols[:remove_from]\n",
    "        # Remove commas/special characters\n",
    "        for i in select_cols:\n",
    "            if i != \",\":\n",
    "                cols.append(i)\n",
    "        \n",
    "        # What are we ordering it by?\n",
    "        for i in range(len(tokens)):\n",
    "            if tokens[i] == \"BY\":\n",
    "                order = tokens[i+1:]\n",
    "        for i in order:\n",
    "            if i != \";\" and i != \",\" and i != \")\":\n",
    "                col_to_sort.append(i)\n",
    "                \n",
    "        # Get all rows:\n",
    "        for key, value in table.items():\n",
    "            all_rows.append(table[key])\n",
    "            \n",
    "        # Transpose list \n",
    "        t_list = [tuple(i) for i in zip(*all_rows)]\n",
    "        \n",
    "        \n",
    "        # Order by, we need to fix this somehow!\n",
    "        t_list.sort(key = lambda i: i[0])\n",
    "        \n",
    "        # Return tuple\n",
    "        return t_list\n",
    "    \n"
   ]
  },
  {
   "cell_type": "markdown",
   "id": "1b32ca09",
   "metadata": {},
   "source": [
    "# TESTING THE DATABASE CLASS AFTER USING GLOBAL VAR:"
   ]
  },
  {
   "cell_type": "code",
   "execution_count": 120,
   "id": "b8d9f520",
   "metadata": {},
   "outputs": [
    {
     "name": "stdout",
     "output_type": "stream",
     "text": [
      "CREATE: dict_items([('students', [{'col1': [], 'col2': [], 'col3': []}])])\n"
     ]
    }
   ],
   "source": [
    "# TEST CREATE:\n",
    "tokens =  ['CREATE', 'TABLE', 'students', '(', 'col1', 'INTEGER', ',', 'col2', 'TEXT', ',', 'col3', 'REAL', ')', ';']\n",
    "db = Database()\n",
    "db.create_table(tokens)\n",
    "print(\"CREATE:\",all_database.items())\n"
   ]
  },
  {
   "cell_type": "code",
   "execution_count": 121,
   "id": "931023b7",
   "metadata": {},
   "outputs": [
    {
     "name": "stdout",
     "output_type": "stream",
     "text": [
      "INSERT: dict_items([('students', [{'col1': [7842], 'col2': ['string with spaces'], 'col3': [3.0]}])])\n"
     ]
    }
   ],
   "source": [
    "# TEST INSERT:\n",
    "query = \"INSERT INTO students VALUES (7842, 'string with spaces', 3.0);\"\n",
    "tokens = tokenize(query)\n",
    "db.insert_vals(tokens)\n",
    "print(\"INSERT:\",all_database.items())"
   ]
  },
  {
   "cell_type": "code",
   "execution_count": 122,
   "id": "8256962f",
   "metadata": {},
   "outputs": [
    {
     "name": "stdout",
     "output_type": "stream",
     "text": [
      "INSERT TWO: dict_items([('students', [{'col1': [7842, 7], 'col2': ['string with spaces', 'look a null'], 'col3': [3.0, None]}])])\n"
     ]
    }
   ],
   "source": [
    "# INSERT TWICE:\n",
    "query_f = \"INSERT INTO students VALUES (7, 'look a null', NULL);\"\n",
    "tokens = tokenize(query_f)\n",
    "db.insert_vals(tokens)\n",
    "print(\"INSERT TWO:\",all_database.items())"
   ]
  },
  {
   "cell_type": "code",
   "execution_count": 123,
   "id": "afa6b158",
   "metadata": {},
   "outputs": [
    {
     "name": "stdout",
     "output_type": "stream",
     "text": [
      "INSERT THREE: dict_items([('students', [{'col1': [7842, 7, 3], 'col2': ['string with spaces', 'look a null', 'hi'], 'col3': [3.0, None, 4.5]}])])\n"
     ]
    }
   ],
   "source": [
    "\n",
    "# INSERT THRICE:\n",
    "query3 = \"INSERT INTO students VALUES (3, 'hi', 4.5);\"\n",
    "tokens = tokenize(query3)\n",
    "db.insert_vals(tokens)\n",
    "print(\"INSERT THREE:\",all_database.items())\n"
   ]
  },
  {
   "cell_type": "code",
   "execution_count": 124,
   "id": "e8ebb479",
   "metadata": {},
   "outputs": [
    {
     "name": "stdout",
     "output_type": "stream",
     "text": [
      "GET TABLE: {'col1': [7842, 7, 3], 'col2': ['string with spaces', 'look a null', 'hi'], 'col3': [3.0, None, 4.5]}\n"
     ]
    }
   ],
   "source": [
    "\n",
    "# Testing get_table\n",
    "table = db.get_table(\"students\")\n",
    "print(\"GET TABLE:\",table)\n"
   ]
  },
  {
   "cell_type": "code",
   "execution_count": 109,
   "id": "239d2322",
   "metadata": {},
   "outputs": [
    {
     "name": "stdout",
     "output_type": "stream",
     "text": [
      "GET ROWS [(7842, 'string with spaces', 3.0), (7842, 'string with spaces', 3.0)]\n"
     ]
    }
   ],
   "source": [
    "\n",
    "\n",
    "# TEST SELECT:\n",
    "select_stat = \"SELECT col1, col2, col3 FROM students ORDER BY col1;\"\n",
    "tokens = tokenize(select_stat)\n",
    "print(\"GET ROWS\",db.get_rows(tokens,table))"
   ]
  },
  {
   "cell_type": "markdown",
   "id": "8668a038",
   "metadata": {},
   "source": [
    "# EXECUTE TEST"
   ]
  },
  {
   "cell_type": "code",
   "execution_count": 132,
   "id": "1ff768c9",
   "metadata": {},
   "outputs": [
    {
     "name": "stdout",
     "output_type": "stream",
     "text": [
      "CREATE: {'students': [{'col1': [], 'col2': [], 'col3': []}]}\n",
      "INSERT: {'students': [{'col1': [7842, 7, 3], 'col2': ['string with spaces', 'look a null', 'hi'], 'col3': [3.0, None, 4.5]}]}\n",
      "[(3, 'hi', 4.5), (7, 'look a null', None), (7842, 'string with spaces', 3.0)]\n"
     ]
    }
   ],
   "source": [
    "# Create:\n",
    "query1 = \"CREATE TABLE students (col1 INTEGER, col2 TEXT, col3 REAL);\"\n",
    "# Inserts:\n",
    "query = \"INSERT INTO students VALUES (7842, 'string with spaces', 3.0);\"\n",
    "query_f = \"INSERT INTO students VALUES (7, 'look a null', NULL);\"\n",
    "query3 = \"INSERT INTO students VALUES (3, 'hi', 4.5);\"\n",
    "# Select:\n",
    "select_stat = \"SELECT col1, col2, col3 FROM students ORDER BY col1;\"\n",
    "\n",
    "\n",
    "\n",
    "def execute(statement):\n",
    "    \"\"\"\n",
    "    Takes a SQL statement.\n",
    "    Returns a list of tuples (empty unless select statement\n",
    "    with rows to return).\n",
    "    \"\"\"\n",
    "    # Create instance of DataBase Class:\n",
    "    db = Database()\n",
    "    \n",
    "    # Only SELECT statements should return rows/table.\n",
    "    # Tokens that should return an empty list:\n",
    "    c = \"CREATE\"\n",
    "    ins = \"INSERT\"\n",
    "    \n",
    "    # First we tokenize,\n",
    "    tokens = tokenize(statement)\n",
    "    # If it's a create statement,\n",
    "    if c in tokens:\n",
    "        db.create_table(tokens)\n",
    "        return []\n",
    "    # If it's an insert statement:\n",
    "    elif ins in tokens:\n",
    "        db.insert_vals(tokens)\n",
    "        return []\n",
    "    # If it is a select statement:\n",
    "    else:\n",
    "        # Table ID is right after FROM statement.\n",
    "        # We have to pull here so we can have the table inputted into the get_rows func.\n",
    "        for i in range(len(tokens)):\n",
    "            if tokens[i] == \"FROM\":\n",
    "                table_name = tokens[i+1]\n",
    "        table = db.get_table(table_name)\n",
    "        # USE GET ROWS FO THE REST! \n",
    "        return db.get_rows(tokens,table)\n",
    "        \n",
    "# Create\n",
    "execute(statement = query1)\n",
    "print(\"CREATE:\",all_database)\n",
    "# Insert\n",
    "execute(statement = query)\n",
    "execute(statement = query_f)\n",
    "execute(statement = query3)\n",
    "print(\"INSERT:\",all_database)\n",
    "\n",
    "# Select\n",
    "print(execute(statement = select_stat))"
   ]
  },
  {
   "cell_type": "markdown",
   "id": "f6b67851",
   "metadata": {},
   "source": [
    "# TEST DATABASE CLASS WITHOUT EXECUTE:\n"
   ]
  },
  {
   "cell_type": "code",
   "execution_count": 136,
   "id": "77e2f39a",
   "metadata": {},
   "outputs": [
    {
     "name": "stdout",
     "output_type": "stream",
     "text": [
      "DATABASE AS IS: {'students': [{'col1': [7842, 7, 3], 'col2': ['string with spaces', 'look a null', 'hi'], 'col3': [3.0, None, 4.5]}]}\n"
     ]
    }
   ],
   "source": [
    "\n",
    "# Create table\"\n",
    "tokens =  ['CREATE', 'TABLE', 'students', '(', 'col1', 'INTEGER', ',', 'col2', 'TEXT', ',', 'col3', 'REAL', ')', ';']\n",
    "db = Database()\n",
    "db.create_table(tokens)\n",
    "\n",
    "# Insert vals:\n",
    "query = \"INSERT INTO students VALUES (7842, 'string with spaces', 3.0);\"\n",
    "tokens = tokenize(query)\n",
    "db.insert_vals(tokens)\n",
    "# Insert more values:\n",
    "query_f = \"INSERT INTO students VALUES (7, 'look a null', NULL);\"\n",
    "tokens = tokenize(query_f)\n",
    "db.insert_vals(tokens)\n",
    "query3 = \"INSERT INTO students VALUES (3, 'hi', 4.5);\"\n",
    "tokens = tokenize(query3)\n",
    "db.insert_vals(tokens)\n",
    "\n",
    "print(\"DATABASE AS IS:\", all_database)\n",
    "\n"
   ]
  },
  {
   "cell_type": "markdown",
   "id": "0ab9db22",
   "metadata": {},
   "source": [
    "# DIFFERENT TABLE TEST:"
   ]
  },
  {
   "cell_type": "code",
   "execution_count": 146,
   "id": "52a694e4",
   "metadata": {},
   "outputs": [],
   "source": [
    "create_q = \"CREATE TABLE student (name TEXT, grade REAL, piazza INTEGER);\"\n",
    "insert_q1 = \"INSERT INTO student VALUES ('James', 4.0, 1);\"\n",
    "insert_q2 = \"INSERT INTO student VALUES ('Yaxin', 4.0, 2);\"\n",
    "insert_q3 = \"INSERT INTO student VALUES ('Li', 3.2, 2);\"\n",
    "select_stat = \"SELECT * FROM student ORDER BY piazza, grade;\""
   ]
  },
  {
   "cell_type": "code",
   "execution_count": 149,
   "id": "e8be8369",
   "metadata": {},
   "outputs": [
    {
     "name": "stdout",
     "output_type": "stream",
     "text": [
      "DATABASE AS IS: {'student': [{'name': ['James', 'Yaxin', 'Li'], 'grade': [4.0, 4.0, 3.2], 'piazza': [1, 2, 2]}]}\n",
      "[('James', 4.0, 1), ('Li', 3.2, 2), ('Yaxin', 4.0, 2)]\n"
     ]
    }
   ],
   "source": [
    "all_database = {}\n",
    "\n",
    "# Create table\"\n",
    "tokens = tokenize(create_q)\n",
    "db = Database()\n",
    "db.create_table(tokens)\n",
    "\n",
    "# Insert vals:\n",
    "tokens = tokenize(insert_q1)\n",
    "db.insert_vals(tokens)\n",
    "\n",
    "# Insert more values:\n",
    "tokens = tokenize(insert_q2)\n",
    "db.insert_vals(tokens)\n",
    "\n",
    "# insert more vals:\n",
    "tokens = tokenize(insert_q3)\n",
    "db.insert_vals(tokens)\n",
    "\n",
    "print(\"DATABASE AS IS:\", all_database)\n",
    "\n",
    "# Testing get_rows, AKA SELECT!\n",
    "tokens = tokenize(select_stat)\n",
    "table = db.get_table(\"student\")\n",
    "print(db.get_rows(tokens,table))"
   ]
  },
  {
   "cell_type": "markdown",
   "id": "d57665a8",
   "metadata": {},
   "source": [
    "# FIXING SELECT ORDER BY  STATEMENT\n",
    "- Since Execute contains the get table name portion, we have to run the get_rows individually:"
   ]
  },
  {
   "cell_type": "code",
   "execution_count": 152,
   "id": "02952d32",
   "metadata": {},
   "outputs": [
    {
     "name": "stdout",
     "output_type": "stream",
     "text": [
      "DATABASE AS IS: {'student': [{'name': ['James', 'Yaxin', 'Li'], 'grade': [4.0, 4.0, 3.2], 'piazza': [1, 2, 2]}]}\n",
      "Table returned: {'name': ['James', 'Yaxin', 'Li'], 'grade': [4.0, 4.0, 3.2], 'piazza': [1, 2, 2]}\n",
      "ROWS RETURNED: [('James', 4.0, 1), ('Li', 3.2, 2), ('Yaxin', 4.0, 2)]\n",
      "EXPECTED RETURN: [('James', 4.0, 1), ('Li', 3.2, 2), ('Yaxin', 4.0, 2)]\n"
     ]
    }
   ],
   "source": [
    "def get_rows(self,tokens,table):\n",
    "        # Temp storage\n",
    "        cols = []\n",
    "        col_to_sort = []\n",
    "        all_rows = []\n",
    "        \n",
    "        # What are we selecting?\n",
    "        \n",
    "        for i in range(len(tokens)):\n",
    "            # After SELECT are the column names we need.\n",
    "            if tokens[i] == \"SELECT\":\n",
    "                select_cols = tokens[i+1:]\n",
    "                \n",
    "        # We need to slice, everything after the column names we dont want in the list.\n",
    "        remove_from = select_cols.index(\"FROM\")\n",
    "        select_cols = select_cols[:remove_from]\n",
    "        # Remove commas/special characters\n",
    "        for i in select_cols:\n",
    "            if i != \",\":\n",
    "                cols.append(i)\n",
    "        \n",
    "        # What are we ordering it by?\n",
    "        for i in range(len(tokens)):\n",
    "            if tokens[i] == \"BY\":\n",
    "                order = tokens[i+1:]\n",
    "        for i in order:\n",
    "            if i != \";\" and i != \",\" and i != \")\":\n",
    "                col_to_sort.append(i)\n",
    "                \n",
    "        # Get all rows:\n",
    "        for key, value in table.items():\n",
    "            all_rows.append(table[key])\n",
    "            \n",
    "        # Transpose list \n",
    "        t_list = [tuple(i) for i in zip(*all_rows)]\n",
    "        \n",
    "        \n",
    "        # Order by, we need to fix this somehow!\n",
    "        t_list.sort(key = lambda i: i[0])\n",
    "        \n",
    "        # Return tuple\n",
    "        return t_list\n",
    "    \n",
    "\n",
    "# Testing get_rows, AKA SELECT!\n",
    "\n",
    "# Create table\"\n",
    "tokens = tokenize(create_q)\n",
    "db = Database()\n",
    "db.create_table(tokens)\n",
    "\n",
    "# Insert vals:\n",
    "tokens = tokenize(insert_q1)\n",
    "db.insert_vals(tokens)\n",
    "\n",
    "# Insert more values:\n",
    "tokens = tokenize(insert_q2)\n",
    "db.insert_vals(tokens)\n",
    "\n",
    "# insert more vals:\n",
    "tokens = tokenize(insert_q3)\n",
    "db.insert_vals(tokens)\n",
    "\n",
    "print(\"DATABASE AS IS:\", all_database)\n",
    "\n",
    "# Testing get_rows, AKA SELECT!\n",
    "tokens = tokenize(select_stat)\n",
    "table = db.get_table(\"student\")\n",
    "print(\"Table returned:\",table)\n",
    "print(\"ROWS RETURNED:\",db.get_rows(tokens,table))\n",
    "\n",
    "expected = [('James', 4.0, 1),('Li', 3.2, 2),('Yaxin', 4.0, 2)]\n",
    "print(\"EXPECTED RETURN:\", expected)\n"
   ]
  },
  {
   "cell_type": "code",
   "execution_count": 155,
   "id": "ae32fd53",
   "metadata": {},
   "outputs": [
    {
     "name": "stdout",
     "output_type": "stream",
     "text": [
      "CREATE: {'student': [{'name': [], 'grade': [], 'piazza': []}]}\n",
      "INSERT: {'student': [{'name': ['James', 'Yaxin', 'Li'], 'grade': [4.0, 4.0, 3.2], 'piazza': [1, 2, 2]}]}\n",
      "MY RETURN: [('James', 4.0, 1), ('Li', 3.2, 2), ('Yaxin', 4.0, 2)]\n",
      "EXPECTED RETURN: [('James', 4.0, 1), ('Li', 3.2, 2), ('Yaxin', 4.0, 2)]\n"
     ]
    }
   ],
   "source": [
    "# Testing using execute:\n",
    "create_q = \"CREATE TABLE student (name TEXT, grade REAL, piazza INTEGER);\"\n",
    "insert_q1 = \"INSERT INTO student VALUES ('James', 4.0, 1);\"\n",
    "insert_q2 = \"INSERT INTO student VALUES ('Yaxin', 4.0, 2);\"\n",
    "insert_q3 = \"INSERT INTO student VALUES ('Li', 3.2, 2);\"\n",
    "select_stat = \"SELECT * FROM student ORDER BY piazza, grade;\"\n",
    "\n",
    "# Create\n",
    "execute(statement = create_q)\n",
    "print(\"CREATE:\",all_database)\n",
    "\n",
    "# Insert\n",
    "execute(statement = insert_q1)\n",
    "execute(statement = insert_q2)\n",
    "execute(statement = insert_q3)\n",
    "print(\"INSERT:\",all_database)\n",
    "\n",
    "# Select\n",
    "print(\"MY RETURN:\",execute(statement = select_stat))\n",
    "\n",
    "expected = [('James', 4.0, 1),('Li', 3.2, 2),('Yaxin', 4.0, 2)]\n",
    "print(\"EXPECTED RETURN:\", expected)"
   ]
  },
  {
   "cell_type": "markdown",
   "id": "8222cd1e",
   "metadata": {},
   "source": [
    "# ALL ORIGINAL TESTS BELOW: CREATE TABLE, INSERT VALS, GET TABLE, GET ROWS"
   ]
  },
  {
   "cell_type": "code",
   "execution_count": 80,
   "id": "264f11ad",
   "metadata": {},
   "outputs": [
    {
     "name": "stdout",
     "output_type": "stream",
     "text": [
      "This is the database: {'students': [{'col1': [], 'col2': [], 'col3': []}]}\n",
      "When you use the table name to extract, it is a list. [{'col1': [], 'col2': [], 'col3': []}]\n",
      "If you index the list at [0], you can pull the table {'col1': [], 'col2': [], 'col3': []}\n",
      "Then you can update the table using table[column name] = whatever. 1\n"
     ]
    }
   ],
   "source": [
    "# Testing table creation:\n",
    "tokens =  ['CREATE', 'TABLE', 'students', '(', 'col1', 'INTEGER', ',', 'col2', 'TEXT', ',', 'col3', 'REAL', ')', ';']\n",
    "db = Database()\n",
    "test = db.create_table(tokens)\n",
    "print(\"This is the database:\",test)\n",
    "table_list = test[\"students\"]\n",
    "print(\"When you use the table name to extract, it is a list.\",table_list)\n",
    "table = table_list[0]\n",
    "print(\"If you index the list at [0], you can pull the table\",table)\n",
    "table['col1'] = 1\n",
    "print(\"Then you can update the table using table[column name] = whatever.\",table[\"col1\"] )\n"
   ]
  },
  {
   "cell_type": "markdown",
   "id": "5ab03fce",
   "metadata": {},
   "source": [
    "# TEST INSERT:"
   ]
  },
  {
   "cell_type": "code",
   "execution_count": 55,
   "id": "12e179bd",
   "metadata": {},
   "outputs": [
    {
     "name": "stdout",
     "output_type": "stream",
     "text": [
      "Table: {'col1': [7842], 'col2': ['string with spaces'], 'col3': [3.0]}\n"
     ]
    }
   ],
   "source": [
    "# TESTING CREATE/INSERT VALS:\n",
    "\n",
    "# CREATE A TABLE INSTANCE:\n",
    "tokens =  ['CREATE', 'TABLE', 'students', '(', 'col1', 'INTEGER', ',', 'col2', 'TEXT', ',', 'col3', 'REAL', ')', ';']\n",
    "db = Database()\n",
    "db.create_table(tokens)\n",
    "\n",
    "# Insert vals test:\n",
    "query = \"INSERT INTO students VALUES (7842, 'string with spaces', 3.0);\"\n",
    "tokens = tokenize(query)\n",
    "test_table = db.insert_vals(tokens)\n",
    "print(\"Table:\",test_table)"
   ]
  },
  {
   "cell_type": "markdown",
   "id": "5438d62e",
   "metadata": {},
   "source": [
    "# TEST GET TABLE"
   ]
  },
  {
   "cell_type": "code",
   "execution_count": 57,
   "id": "930ddf57",
   "metadata": {},
   "outputs": [
    {
     "data": {
      "text/plain": [
       "{'col1': [], 'col2': [], 'col3': []}"
      ]
     },
     "execution_count": 57,
     "metadata": {},
     "output_type": "execute_result"
    }
   ],
   "source": [
    "# Testing get_table\n",
    "tokens =  ['CREATE', 'TABLE', 'students', '(', 'col1', 'INTEGER', ',', 'col2', 'TEXT', ',', 'col3', 'REAL', ')', ';']\n",
    "db = Database()\n",
    "db.create_table(tokens)\n",
    "db.get_table(\"students\")"
   ]
  },
  {
   "cell_type": "markdown",
   "id": "47238875",
   "metadata": {},
   "source": [
    "# MISC:"
   ]
  },
  {
   "cell_type": "code",
   "execution_count": 10,
   "id": "9e20adec",
   "metadata": {},
   "outputs": [],
   "source": [
    "# Some queries to test:\n",
    "# Query from test cases in project:\n",
    "query1 = \"CREATE TABLE students (col1 INTEGER, col2 TEXT, col3 REAL);\"\n",
    "query2 = \"SELECT col1, col2, col3 FROM students ORDER BY col1;\"\n",
    "query = \"INSERT INTO students VALUES (7842, 'string with spaces', 3.0);\"\n",
    "query_f = \"INSERT INTO students VALUES (7, 'look a null', NULL);\""
   ]
  },
  {
   "cell_type": "markdown",
   "id": "023486be",
   "metadata": {},
   "source": [
    "# Old Funcs:"
   ]
  },
  {
   "cell_type": "code",
   "execution_count": null,
   "id": "ebf2a6b1",
   "metadata": {},
   "outputs": [],
   "source": []
  },
  {
   "cell_type": "code",
   "execution_count": null,
   "id": "cfd57b0e",
   "metadata": {},
   "outputs": [],
   "source": []
  }
 ],
 "metadata": {
  "kernelspec": {
   "display_name": "Python 3",
   "language": "python",
   "name": "python3"
  },
  "language_info": {
   "codemirror_mode": {
    "name": "ipython",
    "version": 3
   },
   "file_extension": ".py",
   "mimetype": "text/x-python",
   "name": "python",
   "nbconvert_exporter": "python",
   "pygments_lexer": "ipython3",
   "version": "3.8.8"
  }
 },
 "nbformat": 4,
 "nbformat_minor": 5
}
